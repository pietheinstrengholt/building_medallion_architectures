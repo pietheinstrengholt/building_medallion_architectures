{
 "cells": [
  {
   "cell_type": "code",
   "execution_count": 0,
   "metadata": {
    "application/vnd.databricks.v1+cell": {
     "cellMetadata": {
      "byteLimit": 2048000,
      "rowLimit": 10000
     },
     "inputWidgets": {},
     "nuid": "d26a165c-6232-4e24-b535-e73e095ea515",
     "showTitle": false,
     "title": ""
    }
   },
   "outputs": [],
   "source": [
    "# Fetch parameters from Azure Data Factory\n",
    "schema_name=dbutils.widgets.get(\"schema_name\")\n",
    "table_name=dbutils.widgets.get(\"table_name\")\n",
    "filePath=dbutils.widgets.get(\"filePath\")\n",
    "\n",
    "# Create database\n",
    "spark.sql(f'CREATE SCHEMA IF NOT EXISTS {\"bronze_\" + schema_name}')\n",
    "\n",
    "# Drop table\n",
    "spark.sql(f'DROP TABLE IF EXISTS {\"bronze_\" + schema_name + \".\" + table_name}')\n",
    "\n",
    "# Create new external table using latest datetime location\n",
    "ddl_query = \"\"\"CREATE TABLE bronze_\"\"\" + schema_name + \"\"\".\"\"\"+table_name+\"\"\" \n",
    "            USING PARQUET\n",
    "            LOCATION 'abfss://landing@storagebuildingma.dfs.core.windows.net/\"\"\"+schema_name+\"\"\"/\"\"\"+filePath+\"\"\"/\"\"\"+table_name+\"\"\".parquet'\n",
    "            \"\"\"\n",
    "\n",
    "# Execute query\n",
    "spark.sql(ddl_query)"
   ]
  }
 ],
 "metadata": {
  "application/vnd.databricks.v1+notebook": {
   "dashboards": [],
   "environmentMetadata": {
    "base_environment": "",
    "client": "1"
   },
   "language": "python",
   "notebookMetadata": {
    "mostRecentlyExecutedCommandWithImplicitDF": {
     "commandId": 3668976408772766,
     "dataframes": [
      "_sqldf"
     ]
    },
    "pythonIndentUnit": 4
   },
   "notebookName": "CreateExternalTables",
   "widgets": {}
  }
 },
 "nbformat": 4,
 "nbformat_minor": 0
}
