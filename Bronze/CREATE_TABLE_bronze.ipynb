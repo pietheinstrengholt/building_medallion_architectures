{
 "cells": [
  {
   "cell_type": "code",
   "execution_count": 0,
   "metadata": {
    "application/vnd.databricks.v1+cell": {
     "cellMetadata": {},
     "inputWidgets": {},
     "nuid": "3a908a49-3fe4-423c-8da5-178f1a46ab5d",
     "showTitle": false,
     "title": ""
    }
   },
   "outputs": [],
   "source": [
    "%sql\n",
    "CREATE TABLE bronze_table (  \n",
    "    CustomerID INT,  \n",
    "    NameStyle BOOLEAN,  \n",
    "    Title STRING,  \n",
    "    FirstName STRING  \n",
    ")  \n",
    "USING delta  \n",
    "LOCATION '/mnt/delta/bronze_table';  "
   ]
  }
 ],
 "metadata": {
  "application/vnd.databricks.v1+notebook": {
   "dashboards": [],
   "environmentMetadata": null,
   "language": "python",
   "notebookMetadata": {
    "pythonIndentUnit": 4
   },
   "notebookName": "CREATE_TABLE_bronze",
   "widgets": {}
  }
 },
 "nbformat": 4,
 "nbformat_minor": 0
}
