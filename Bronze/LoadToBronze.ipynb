{
 "cells": [
  {
   "cell_type": "code",
   "execution_count": 0,
   "metadata": {
    "application/vnd.databricks.v1+cell": {
     "cellMetadata": {
      "byteLimit": 2048000,
      "rowLimit": 10000
     },
     "inputWidgets": {},
     "nuid": "d63dab53-6922-4456-b153-a57e956ca5b9",
     "showTitle": false,
     "title": ""
    }
   },
   "outputs": [
    {
     "output_type": "execute_result",
     "data": {
      "text/plain": [
       "DataFrame[num_affected_rows: bigint, num_inserted_rows: bigint]"
      ]
     },
     "execution_count": 94,
     "metadata": {},
     "output_type": "execute_result"
    }
   ],
   "source": [
    "# Fetch parameters from Azure Data Factory\n",
    "schema_name=dbutils.widgets.get(\"schema_name\")\n",
    "table_name=dbutils.widgets.get(\"table_name\")\n",
    "filePath=dbutils.widgets.get(\"filePath\")\n",
    "catalog_name=\"buildingma\"\n",
    "\n",
    "# Create database\n",
    "spark.sql(\"CREATE SCHEMA IF NOT EXISTS bronze_\" + schema_name + \" MANAGED LOCATION 'abfss://bronze@storagebuildingma.dfs.core.windows.net/\" + schema_name + \"/\" + table_name + \"'\")\n",
    "\n",
    "# Create new external table using latest datetime location\n",
    "ddl_query = \"\"\"CREATE OR REPLACE TABLE \"\"\" + catalog_name + \"\"\".bronze_\"\"\" + schema_name + \"\"\".\"\"\"+table_name+\"\"\" AS\n",
    "                SELECT\n",
    "                *\n",
    "                FROM\n",
    "                read_files(\n",
    "                    '/mnt/landing/\"\"\"+schema_name+\"\"\"/\"\"\"+filePath+\"\"\"/\"\"\"+table_name+\"\"\".parquet',\n",
    "                    header => \"True\"\n",
    "                )\"\"\"\n",
    "\n",
    "# Execute query\n",
    "spark.sql(ddl_query)"
   ]
  }
 ],
 "metadata": {
  "application/vnd.databricks.v1+notebook": {
   "dashboards": [],
   "environmentMetadata": {
    "base_environment": "",
    "client": "1"
   },
   "language": "python",
   "notebookMetadata": {
    "mostRecentlyExecutedCommandWithImplicitDF": {
     "commandId": 3668976408772754,
     "dataframes": [
      "_sqldf"
     ]
    },
    "pythonIndentUnit": 4
   },
   "notebookName": "LoadToBronze",
   "widgets": {}
  }
 },
 "nbformat": 4,
 "nbformat_minor": 0
}
