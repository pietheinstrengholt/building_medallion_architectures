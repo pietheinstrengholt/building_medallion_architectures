{
 "cells": [
  {
   "cell_type": "code",
   "execution_count": 0,
   "metadata": {
    "application/vnd.databricks.v1+cell": {
     "cellMetadata": {
      "byteLimit": 2048000,
      "rowLimit": 10000
     },
     "inputWidgets": {},
     "nuid": "2fb010e8-ab99-47e4-b459-6c07a625c215",
     "showTitle": false,
     "tableResultSettingsMap": {},
     "title": ""
    }
   },
   "outputs": [],
   "source": [
    "# Fetch parameters from Azure Data Factory\n",
    "#schemaName=dbutils.widgets.get(\"schemaName\")\n",
    "#tableName=dbutils.widgets.get(\"tableName\")\n",
    "#filePath=dbutils.widgets.get(\"filePath\")\n",
    "\n",
    "schemaName=\"adventureworks\"\n",
    "tableName=\"Address\"\n",
    "filePath=\"20241022\"\n",
    "\n",
    "# Fetch schema data from landing zone\n",
    "jsonSchema = spark.read.parquet(f\"/Volumes/buildingma/volumes/mnt_landing/\\\n",
    "{schemaName}/{filePath}/{tableName}.parquet\").schema.json()\n",
    "ddl = spark.sparkContext._jvm.org.apache.spark.sql.types.DataType \\\n",
    "  .fromJson(jsonSchema).toDDL()\n",
    "\n",
    "# Migrate parquet data to delta files\n",
    "(spark.readStream\n",
    "  .format(\"cloudFiles\")\n",
    "  .option(\"cloudFiles.format\", \"parquet\")\n",
    "  .option(\"cloudFiles.includeExistingFiles\", \"true\")\n",
    "  .option(\"cloudFiles.backfillInterval\", \"1 day\")\n",
    "  .option(\"cloudFiles.schemaLocation\", f\"/Volumes/buildingma/volumes/mnt_landing/\\\n",
    "  {schemaName}/_checkpoint/{tableName}_autoload/\")\n",
    "  .schema(ddl)\n",
    "  .load(f\"/Volumes/buildingma/volumes/mnt_landing/\\\n",
    "  {schemaName}/{filePath}/{tableName}.parquet\")\n",
    "  .writeStream\n",
    "  .format(\"delta\")\n",
    "  .option(\"checkpointLocation\", f\"/Volumes/buildingma/volumes/mnt_landing/\\\n",
    "  {schemaName}/_checkpoint/{tableName}_autoload/\")\n",
    "  .trigger(availableNow=True)\n",
    "  .toTable(f\"bronze_adventureworks.{tableName}\")\n",
    ")"
   ]
  }
 ],
 "metadata": {
  "application/vnd.databricks.v1+notebook": {
   "dashboards": [],
   "environmentMetadata": null,
   "language": "python",
   "notebookMetadata": {
    "pythonIndentUnit": 4
   },
   "notebookName": "AutoLoader",
   "widgets": {}
  },
  "language_info": {
   "name": "python"
  }
 },
 "nbformat": 4,
 "nbformat_minor": 0
}
