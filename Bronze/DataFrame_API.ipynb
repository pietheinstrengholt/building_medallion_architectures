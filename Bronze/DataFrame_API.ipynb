{
 "cells": [
  {
   "cell_type": "code",
   "execution_count": 0,
   "metadata": {
    "application/vnd.databricks.v1+cell": {
     "cellMetadata": {},
     "inputWidgets": {},
     "nuid": "786ef25f-3d05-4345-b359-eb0f34b8f3cf",
     "showTitle": false,
     "title": ""
    }
   },
   "outputs": [],
   "source": [
    "from pyspark.sql.types import StructType, StructField, IntegerType, StringType\n",
    "  \n",
    "schema = StructType([  \n",
    "    StructField(\"CustomerID\", IntegerType(), True),  \n",
    "    StructField(\"NameStyle\", BooleanType(), True),  \n",
    "    StructField(\"Title\", StringType(), True),  \n",
    "    StructField(\"FirstName\", StringType(), True)  \n",
    "])  \n",
    "  \n",
    "df = spark.read.schema(schema).json(\"/path/to/raw/data\")  \n",
    "df.write.format(\"delta\").save(\"/mnt/delta/bronze_table\")"
   ]
  }
 ],
 "metadata": {
  "application/vnd.databricks.v1+notebook": {
   "dashboards": [],
   "environmentMetadata": null,
   "language": "python",
   "notebookMetadata": {
    "pythonIndentUnit": 4
   },
   "notebookName": "DataFrame_API",
   "widgets": {}
  }
 },
 "nbformat": 4,
 "nbformat_minor": 0
}
