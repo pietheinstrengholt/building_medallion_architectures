{
 "cells": [
  {
   "cell_type": "code",
   "execution_count": 0,
   "metadata": {
    "application/vnd.databricks.v1+cell": {
     "cellMetadata": {},
     "inputWidgets": {},
     "nuid": "2fb010e8-ab99-47e4-b459-6c07a625c215",
     "showTitle": false,
     "title": ""
    }
   },
   "outputs": [],
   "source": [
    "# Fetch parameters from Azure Data Factory\n",
    "schemaName=dbutils.widgets.get(\"schemaName\")\n",
    "tableName=dbutils.widgets.get(\"tableName\")\n",
    "filePath=dbutils.widgets.get(\"filePath\")\n",
    "\n",
    "# Fetch schema data from landing zone\n",
    "jsonSchema = spark.read.parquet(f\"/Volumes/mycatalog/volumes/mnt_landing/\\\n",
    "{schemaName}/{filePath}/{tableName}.parquet\").schema.json()\n",
    "ddl = spark.sparkContext._jvm.org.apache.spark.sql.types.DataType \\\n",
    "  .fromJson(jsonSchema).toDDL()\n",
    "\n",
    "# Migrate parquet data to delta files\n",
    "(spark.readStream\n",
    "  .format(\"cloudFiles\")\n",
    "  .option(\"cloudFiles.format\", \"parquet\")\n",
    "  .option(\"cloudFiles.includeExistingFiles\", \"true\")\n",
    "  .option(\"cloudFiles.backfillInterval\", \"1 day\")\n",
    "  .option(\"cloudFiles.schemaLocation\", \"/Volumes/mycatalog/volumes/mnt_landing/\\\n",
    "  adventureworks/_checkpoint/address_autoload/\")\n",
    "  .schema(ddl)\n",
    "  .load(f\"/Volumes/mycatalog/volumes/mnt_landing/\\\n",
    "  {schemaName}/{filePath}/{tableName}.parquet\")\n",
    "  .writeStream\n",
    "  .format(\"delta\")\n",
    "  .option(\"checkpointLocation\", \"/Volumes/mycatalog/volumes/mnt_landing/\\\n",
    "  adventureworks/_checkpoint/address_autoload/\")\n",
    "  .trigger(availableNow=True)\n",
    "  .toTable(\"bronze_adventureworks.address\")\n",
    ")"
   ]
  }
 ],
 "metadata": {
  "application/vnd.databricks.v1+notebook": {
   "dashboards": [],
   "environmentMetadata": null,
   "language": "python",
   "notebookMetadata": {
    "pythonIndentUnit": 4
   },
   "notebookName": "AutoLoader",
   "widgets": {}
  }
 },
 "nbformat": 4,
 "nbformat_minor": 0
}
