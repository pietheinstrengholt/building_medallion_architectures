{
 "cells": [
  {
   "cell_type": "code",
   "execution_count": 0,
   "metadata": {
    "application/vnd.databricks.v1+cell": {
     "cellMetadata": {},
     "inputWidgets": {},
     "nuid": "909794b2-b581-4975-8bab-25b7241b6422",
     "showTitle": false,
     "title": ""
    }
   },
   "outputs": [],
   "source": [
    "# Define schema for input files\n",
    "jsonSchema = StructType([\n",
    "  StructField(\"key1\", StringType()),\n",
    "  StructField(\"key2\", StructType([\n",
    "    StructField(\"subkey1\", IntegerType()),\n",
    "    StructField(\"subkey2\", StringType())\n",
    "  ]))\n",
    "])\n",
    "\n",
    "# Stream json files to delta table\n",
    "(spark.readStream.format(\"cloudFiles\")\n",
    "  .option(\"cloudFiles.format\", \"json\")\n",
    "  .option(\"cloudFiles.schemaLocation\", \"/path/_checkpoint/address_autoload/\")\n",
    "  .option(\"cloudFiles.useNotifications\",True) # Provide values for below\n",
    "  .option(\"cloudFiles.clientId\", \"xxxxxxxxxxxxxxxxxx\") # ID Service Principal\n",
    "  .option(\"cloudFiles.clientSecret\", \"xxxxxxxxxxxxxxxxxx\") # Secret value\n",
    "  .option(\"cloudFiles.tenantId\", \"xxxxxxxxxxxxxxxxxx\") # Tenant ID\n",
    "  .option(\"cloudFiles.subscriptionId\", \"xxxxxxxxxxxxxxxxxx\") # Subscription ID\n",
    "  .option(\"cloudFiles.connectionString\",\n",
    "  \"DefaultEndpointsProtocol=https; \\\n",
    "  AccountName=<storage-account>; \\\n",
    "  AccountKey=<account-key>;EndpointSuffix=core.windows.net\")\n",
    "  .option(\"cloudFiles.resourceGroup\", \"xxxxxxxxxxxxxxxxxx\") # RG Name\n",
    "  .schema(jsonSchema)\n",
    "  .load(\"/path/to/json/files\")\n",
    "  .writeStream\n",
    "  .format(\"delta\")\n",
    "  .option(\"checkpointLocation\", \"/path/_checkpoint/address_autoload/\")\n",
    "  .toTable(\"bronze_adventureworks.address\")\n",
    ")"
   ]
  }
 ],
 "metadata": {
  "application/vnd.databricks.v1+notebook": {
   "dashboards": [],
   "environmentMetadata": null,
   "language": "python",
   "notebookMetadata": {
    "pythonIndentUnit": 4
   },
   "notebookName": "EventHubs",
   "widgets": {}
  }
 },
 "nbformat": 4,
 "nbformat_minor": 0
}
