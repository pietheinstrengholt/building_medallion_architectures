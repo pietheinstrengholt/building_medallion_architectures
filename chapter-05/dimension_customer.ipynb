{
 "cells": [
  {
   "cell_type": "code",
   "execution_count": 1,
   "id": "6f664a59-cdef-4b05-ac8b-431e641ba6a3",
   "metadata": {
    "jupyter": {
     "outputs_hidden": false,
     "source_hidden": false
    },
    "microsoft": {
     "language": "python",
     "language_group": "synapse_pyspark"
    },
    "nteract": {
     "transient": {
      "deleting": false
     }
    }
   },
   "outputs": [
    {
     "data": {
      "application/vnd.livy.statement-meta+json": {
       "execution_finish_time": "2024-11-22T09:03:26.9945807Z",
       "execution_start_time": "2024-11-22T09:03:24.3767976Z",
       "livy_statement_state": "available",
       "normalized_state": "finished",
       "parent_msg_id": "a5c924c2-36de-4c9b-aeb4-f5e091701577",
       "queued_time": "2024-11-22T09:03:18.4663306Z",
       "session_id": "2cce878e-16a2-41dc-b94a-dfd2801adc87",
       "session_start_time": null,
       "spark_pool": null,
       "state": "finished",
       "statement_id": 3,
       "statement_ids": [
        3
       ]
      },
      "text/plain": [
       "StatementMeta(, 2cce878e-16a2-41dc-b94a-dfd2801adc87, 3, Finished, Available, Finished)"
      ]
     },
     "metadata": {},
     "output_type": "display_data"
    },
    {
     "data": {
      "text/plain": [
       "('spark.microsoft.delta.optimizeWrite.binSize', '1073741824')"
      ]
     },
     "execution_count": 8,
     "metadata": {},
     "output_type": "execute_result"
    }
   ],
   "source": [
    "# Set up the session for V-Order writing\n",
    "\"spark.sql.parquet.vorder.enabled\", \"true\"\n",
    "\"spark.microsoft.delta.optimizeWrite.enabled\", \"true\"\n",
    "\"spark.microsoft.delta.optimizeWrite.binSize\", \"1073741824\""
   ]
  },
  {
   "cell_type": "code",
   "execution_count": null,
   "id": "c7026276-e08d-4a81-aad3-7cb51d10828f",
   "metadata": {
    "microsoft": {
     "language": "python",
     "language_group": "synapse_pyspark"
    }
   },
   "outputs": [
    {
     "data": {
      "application/vnd.livy.statement-meta+json": {
       "execution_finish_time": "2024-11-22T09:03:33.6743752Z",
       "execution_start_time": "2024-11-22T09:03:27.3108577Z",
       "livy_statement_state": "available",
       "normalized_state": "finished",
       "parent_msg_id": "448a1b97-1d7d-41fc-9b0b-d7e650323098",
       "queued_time": "2024-11-22T09:03:18.5119198Z",
       "session_id": "2cce878e-16a2-41dc-b94a-dfd2801adc87",
       "session_start_time": null,
       "spark_pool": null,
       "state": "finished",
       "statement_id": 4,
       "statement_ids": [
        4
       ]
      },
      "text/plain": [
       "StatementMeta(, 2cce878e-16a2-41dc-b94a-dfd2801adc87, 4, Finished, Available, Finished)"
      ]
     },
     "metadata": {},
     "output_type": "display_data"
    }
   ],
   "source": [
    "from pyspark.sql.functions import *\n",
    "\n",
    "# Load data to the dataframe as a starting point to create the gold layer\n",
    "customer = spark.read.table(\"silver.adventureworks.hist_customer\") \\\n",
    ".where(col(\"current\") == True)\n",
    "customer = customer.dropDuplicates([\"CustomerID\"])\n",
    "\n",
    "# Select only the relevant columns\n",
    "dimension_customer = customer[[\"CustomerID\", \"Title\", \"FirstName\", \\\n",
    "\"MiddleName\", \"LastName\", \"CompanyName\", \"EmailAddress\", \"Phone\"]]\n",
    "\n",
    "# Add hash code using all selected columns\n",
    "dimension_customer = dimension_customer.withColumn(\"ID\", \\\n",
    "sha2(concat_ws(\"||\", *dimension_customer.columns), 256))"
   ]
  },
  {
   "cell_type": "code",
   "execution_count": 3,
   "id": "fdc7ca50-5af0-4b38-80bc-cdb6bd3bee71",
   "metadata": {
    "jupyter": {
     "outputs_hidden": false,
     "source_hidden": false
    },
    "microsoft": {
     "language": "python",
     "language_group": "synapse_pyspark"
    },
    "nteract": {
     "transient": {
      "deleting": false
     }
    }
   },
   "outputs": [
    {
     "data": {
      "application/vnd.livy.statement-meta+json": {
       "execution_finish_time": "2024-11-22T09:03:46.3547721Z",
       "execution_start_time": "2024-11-22T09:03:33.9939611Z",
       "livy_statement_state": "available",
       "normalized_state": "finished",
       "parent_msg_id": "d0adbe2f-51f6-4976-9850-c43db9c1e97c",
       "queued_time": "2024-11-22T09:03:18.5650949Z",
       "session_id": "2cce878e-16a2-41dc-b94a-dfd2801adc87",
       "session_start_time": null,
       "spark_pool": null,
       "state": "finished",
       "statement_id": 5,
       "statement_ids": [
        5
       ]
      },
      "text/plain": [
       "StatementMeta(, 2cce878e-16a2-41dc-b94a-dfd2801adc87, 5, Finished, Available, Finished)"
      ]
     },
     "metadata": {},
     "output_type": "display_data"
    }
   ],
   "source": [
    "from delta.tables import *\n",
    "\n",
    "deltaTable = DeltaTable.forPath(spark, \\\n",
    "'Tables/adventureworks/dimension_customer')\n",
    "\n",
    "deltaTable.alias('silver') \\\n",
    "  .merge(\n",
    "    dimension_customer.alias('updates'),\n",
    "    'silver.ID = updates.ID'\n",
    "  ).whenMatchedUpdate(set =\n",
    "    {\n",
    "      \"current_flag\": lit(\"1\"),\n",
    "      \"current_date\": current_date(),\n",
    "      \"end_date\": \"\"\"to_date('9999-12-31', 'yyyy-MM-dd')\"\"\"\n",
    "    }\n",
    "  ).whenNotMatchedInsert(values =\n",
    "    {\n",
    "      \"ID\": \"updates.ID\",\n",
    "      \"CustomerID\": \"updates.CustomerID\",\n",
    "      \"Title\": \"updates.Title\",\n",
    "      \"FirstName\": \"updates.FirstName\",\n",
    "      \"MiddleName\": \"updates.MiddleName\",\n",
    "      \"LastName\": \"updates.LastName\",\n",
    "      \"CompanyName\": \"updates.CompanyName\",\n",
    "      \"EmailAddress\": \"updates.EmailAddress\",\n",
    "      \"Phone\": \"updates.Phone\",\n",
    "      \"current_flag\": lit(\"1\"),\n",
    "      \"current_date\": current_date(),\n",
    "      \"end_date\": \"\"\"to_date('9999-12-31', 'yyyy-MM-dd')\"\"\"\n",
    "    }\n",
    "  ).whenNotMatchedBySourceUpdate(set =\n",
    "    {\n",
    "      \"current_flag\": lit(\"0\"),\n",
    "      \"end_date\": current_date()\n",
    "    }\n",
    "  ).execute()"
   ]
  }
 ],
 "metadata": {
  "dependencies": {
   "lakehouse": {
    "default_lakehouse": "89b49d86-b090-4126-b03c-263e6f504321",
    "default_lakehouse_name": "Gold",
    "default_lakehouse_workspace_id": "30950d63-22f3-4d65-8813-310477df47b4",
    "known_lakehouses": [
     {
      "id": "89b49d86-b090-4126-b03c-263e6f504321"
     }
    ]
   }
  },
  "kernel_info": {
   "name": "synapse_pyspark"
  },
  "kernelspec": {
   "display_name": "Synapse PySpark",
   "language": "Python",
   "name": "synapse_pyspark"
  },
  "language_info": {
   "name": "python"
  },
  "microsoft": {
   "language": "python",
   "language_group": "synapse_pyspark",
   "ms_spell_check": {
    "ms_spell_check_language": "en"
   }
  },
  "notebook_environment": {},
  "nteract": {
   "version": "nteract-front-end@1.0.0"
  },
  "save_output": true,
  "spark_compute": {
   "compute_id": "/trident/default",
   "session_options": {
    "conf": {
     "spark.synapse.nbs.session.timeout": "1200000"
    },
    "enableDebugMode": false
   }
  },
  "synapse_widget": {
   "state": {},
   "version": "0.1"
  },
  "widgets": {}
 },
 "nbformat": 4,
 "nbformat_minor": 5
}
