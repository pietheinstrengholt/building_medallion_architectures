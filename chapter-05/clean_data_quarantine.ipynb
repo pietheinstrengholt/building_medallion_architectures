{
 "cells": [
  {
   "cell_type": "code",
   "execution_count": null,
   "metadata": {},
   "outputs": [],
   "source": [
    "customers.filter(age > 150).write.format(\"delta\") \\\n",
    ".mode(\"append\").saveAsTable(\"adventureworks.customer_quarantine\")"
   ]
  },
  {
   "cell_type": "code",
   "execution_count": null,
   "metadata": {},
   "outputs": [],
   "source": [
    "customers = spark.read.table(\"adventureworks.customer\")\n",
    "duplicateIds = customers.toPandas().duplicated(subset=['CustomerID'])  \n",
    "title_not_null = customers.toPandas()['Title'].isnull()\n",
    "\n",
    "if duplicateIds > 0 or title_not_null > 0:\n",
    "    mssparkutils.notebook.exit(f\"DQ duplicateIds error: \\\n",
    "    {duplicateIds}, DQ title_not_null error: {title_not_null}\")"
   ]
  }
 ],
 "metadata": {
  "language_info": {
   "name": "python"
  }
 },
 "nbformat": 4,
 "nbformat_minor": 2
}
