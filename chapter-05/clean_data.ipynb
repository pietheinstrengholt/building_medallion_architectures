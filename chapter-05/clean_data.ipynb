{
 "cells": [
  {
   "cell_type": "code",
   "execution_count": 1,
   "id": "6c50bc12-23b2-4995-8bc2-23fa72208cf3",
   "metadata": {
    "microsoft": {
     "language": "python",
     "language_group": "synapse_pyspark"
    }
   },
   "outputs": [
    {
     "data": {
      "application/vnd.livy.statement-meta+json": {
       "execution_finish_time": "2024-11-24T10:28:29.1659413Z",
       "execution_start_time": "2024-11-24T10:28:10.1615346Z",
       "livy_statement_state": "available",
       "normalized_state": "finished",
       "parent_msg_id": "b9f60649-1729-4617-a42a-91977f80ea97",
       "queued_time": "2024-11-24T10:27:53.563581Z",
       "session_id": "d555e1b0-de58-413f-bcbc-afed2ade0944",
       "session_start_time": "2024-11-24T10:27:53.8036963Z",
       "spark_pool": null,
       "state": "finished",
       "statement_id": 3,
       "statement_ids": [
        3
       ]
      },
      "text/plain": [
       "StatementMeta(, d555e1b0-de58-413f-bcbc-afed2ade0944, 3, Finished, Available, Finished)"
      ]
     },
     "metadata": {},
     "output_type": "display_data"
    }
   ],
   "source": [
    "# Import necessary libraries\n",
    "from pyspark.sql.functions import *\n",
    "from pyspark.sql.types import StringType\n",
    "\n",
    "# Create database\n",
    "spark.sql(f'CREATE SCHEMA IF NOT EXISTS adventureworks')\n",
    "\n",
    "# Load data\n",
    "customers = spark.read.table(\"Sales_Development.bronze.adventureworks.customer\")\n",
    "\n",
    "# Drop columns that are not needed\n",
    "customers = customers.drop(\"PasswordHash\", \"PasswordSalt\", \"rowguid\", \"ModifiedDate\")\n",
    "\n",
    "# Function to determine gender  \n",
    "def determine_gender_udf(title):  \n",
    "    if title == 'Mr.':  \n",
    "        return 'Male'  \n",
    "    elif title == 'Ms.':  \n",
    "        return 'Female'  \n",
    "    else:\n",
    "        return 'Unknown'  # Add a default value for other cases\n",
    "\n",
    "determine_gender_udf = udf(determine_gender_udf, StringType())\n",
    "\n",
    "# Adding gender to each dictionary in the list\n",
    "customers = customers.withColumn(\"Gender\", \\\n",
    "determine_gender_udf(trim(customers[\"Title\"])))\n",
    "\n",
    "# Define the strip_prefix function\n",
    "def strip_prefix(value):\n",
    "    return value.strip(\"adventure-works\\\\\")\n",
    "\n",
    "# Define the strip_prefix_udf function\n",
    "strip_prefix_udf = udf(strip_prefix, StringType())\n",
    "\n",
    "# Updating SalesPerson in each dictionary in the list  \n",
    "customers = customers.withColumn(\"SalesPerson\", \\\n",
    "strip_prefix_udf(customers[\"SalesPerson\"]))\n",
    "\n",
    "# Making all telephone numbers consistent\n",
    "customers = customers.withColumn(\"Phone\", \\\n",
    "regexp_replace(customers[\"Phone\"], r\"1 \\(\\d{2}\\) \", \"\"))\n",
    "\n",
    "# Write customers data\n",
    "customers.write.mode(\"Overwrite\").saveAsTable(\"adventureworks.clean_customer\")"
   ]
  },
  {
   "cell_type": "code",
   "execution_count": 11,
   "id": "7f178cf9-76e4-486a-a4fc-816b8b9d3bd4",
   "metadata": {
    "jupyter": {
     "outputs_hidden": false,
     "source_hidden": false
    },
    "microsoft": {
     "language": "python",
     "language_group": "synapse_pyspark"
    },
    "nteract": {
     "transient": {
      "deleting": false
     }
    }
   },
   "outputs": [
    {
     "data": {
      "application/vnd.livy.statement-meta+json": {
       "execution_finish_time": "2024-11-19T16:25:42.540798Z",
       "execution_start_time": "2024-11-19T16:25:25.7609795Z",
       "livy_statement_state": "available",
       "normalized_state": "finished",
       "parent_msg_id": "168db3ec-94a1-411e-be9f-863c9651c054",
       "queued_time": "2024-11-19T16:25:25.3856142Z",
       "session_id": "6efdc37f-9a23-4afd-8a67-52a5726f8452",
       "session_start_time": null,
       "spark_pool": null,
       "state": "finished",
       "statement_id": 13,
       "statement_ids": [
        13
       ]
      },
      "text/plain": [
       "StatementMeta(, 6efdc37f-9a23-4afd-8a67-52a5726f8452, 13, Finished, Available, Finished)"
      ]
     },
     "metadata": {},
     "output_type": "display_data"
    }
   ],
   "source": [
    "# Load data\n",
    "address = spark.read.table(\"bronze.adventureworks.address\")\n",
    "\n",
    "# Drop columns that are not needed\n",
    "address = address.drop(\"rowguid\")\n",
    "\n",
    "# Write address data\n",
    "address.write.mode(\"Overwrite\").saveAsTable(\"adventureworks.clean_address\")"
   ]
  },
  {
   "cell_type": "code",
   "execution_count": 12,
   "id": "a0849beb-9d33-4a58-a3bb-da294e054231",
   "metadata": {
    "jupyter": {
     "outputs_hidden": false,
     "source_hidden": false
    },
    "microsoft": {
     "language": "python",
     "language_group": "synapse_pyspark"
    },
    "nteract": {
     "transient": {
      "deleting": false
     }
    }
   },
   "outputs": [
    {
     "data": {
      "application/vnd.livy.statement-meta+json": {
       "execution_finish_time": "2024-11-19T16:25:47.7712095Z",
       "execution_start_time": "2024-11-19T16:25:42.8900028Z",
       "livy_statement_state": "available",
       "normalized_state": "finished",
       "parent_msg_id": "f644667e-02a5-46cd-8077-d9ae1c9af496",
       "queued_time": "2024-11-19T16:25:37.9720849Z",
       "session_id": "6efdc37f-9a23-4afd-8a67-52a5726f8452",
       "session_start_time": null,
       "spark_pool": null,
       "state": "finished",
       "statement_id": 14,
       "statement_ids": [
        14
       ]
      },
      "text/plain": [
       "StatementMeta(, 6efdc37f-9a23-4afd-8a67-52a5726f8452, 14, Finished, Available, Finished)"
      ]
     },
     "metadata": {},
     "output_type": "display_data"
    }
   ],
   "source": [
    "# Load data\n",
    "customeraddress = spark.read.table(\"bronze.adventureworks.customeraddress\")\n",
    "\n",
    "# Drop columns that are not needed\n",
    "customeraddress = customeraddress.drop(\"rowguid\")\n",
    "\n",
    "# Write customeraddress data\n",
    "customeraddress.write.mode(\"Overwrite\").saveAsTable(\"adventureworks.clean_customeraddress\")"
   ]
  },
  {
   "cell_type": "code",
   "execution_count": 4,
   "id": "c7236d79-a225-4f66-925b-0e14399fb1e8",
   "metadata": {
    "jupyter": {
     "outputs_hidden": false,
     "source_hidden": false
    },
    "microsoft": {
     "language": "python",
     "language_group": "synapse_pyspark"
    },
    "nteract": {
     "transient": {
      "deleting": false
     }
    }
   },
   "outputs": [
    {
     "data": {
      "application/vnd.livy.statement-meta+json": {
       "execution_finish_time": "2024-11-19T16:05:12.8481759Z",
       "execution_start_time": "2024-11-19T16:05:06.4041041Z",
       "livy_statement_state": "available",
       "normalized_state": "finished",
       "parent_msg_id": "628b04a8-ce8a-46eb-a7b9-a19073411c9f",
       "queued_time": "2024-11-19T16:01:43.8391026Z",
       "session_id": "6efdc37f-9a23-4afd-8a67-52a5726f8452",
       "session_start_time": null,
       "spark_pool": null,
       "state": "finished",
       "statement_id": 6,
       "statement_ids": [
        6
       ]
      },
      "text/plain": [
       "StatementMeta(, 6efdc37f-9a23-4afd-8a67-52a5726f8452, 6, Finished, Available, Finished)"
      ]
     },
     "metadata": {},
     "output_type": "display_data"
    }
   ],
   "source": [
    "# Load data\n",
    "product = spark.read.table(\"bronze.adventureworks.product\")\n",
    "\n",
    "# Drop columns that are not needed\n",
    "product = product.drop(\"rowguid\")\n",
    "\n",
    "# Write product data\n",
    "product.write.mode(\"Overwrite\").saveAsTable(\"adventureworks.clean_product\")"
   ]
  },
  {
   "cell_type": "code",
   "execution_count": 5,
   "id": "13422b77-2e17-4d74-bfae-7805afdaa7e7",
   "metadata": {
    "jupyter": {
     "outputs_hidden": false,
     "source_hidden": false
    },
    "microsoft": {
     "language": "python",
     "language_group": "synapse_pyspark"
    },
    "nteract": {
     "transient": {
      "deleting": false
     }
    }
   },
   "outputs": [
    {
     "data": {
      "application/vnd.livy.statement-meta+json": {
       "execution_finish_time": "2024-11-19T16:05:18.1261283Z",
       "execution_start_time": "2024-11-19T16:05:13.2415919Z",
       "livy_statement_state": "available",
       "normalized_state": "finished",
       "parent_msg_id": "c640d28f-fa79-447d-81ae-d9d41415c0ea",
       "queued_time": "2024-11-19T16:01:43.8400008Z",
       "session_id": "6efdc37f-9a23-4afd-8a67-52a5726f8452",
       "session_start_time": null,
       "spark_pool": null,
       "state": "finished",
       "statement_id": 7,
       "statement_ids": [
        7
       ]
      },
      "text/plain": [
       "StatementMeta(, 6efdc37f-9a23-4afd-8a67-52a5726f8452, 7, Finished, Available, Finished)"
      ]
     },
     "metadata": {},
     "output_type": "display_data"
    }
   ],
   "source": [
    "# Load data\n",
    "productcategory = spark.read.table(\"bronze.adventureworks.productcategory\")\n",
    "\n",
    "# Drop columns that are not needed\n",
    "productcategory = productcategory.drop(\"rowguid\")\n",
    "\n",
    "# Write productcategory data\n",
    "productcategory.write.mode(\"Overwrite\").saveAsTable(\"adventureworks.clean_productcategory\")"
   ]
  },
  {
   "cell_type": "code",
   "execution_count": 6,
   "id": "37c9cb9c-bda3-479c-b1a9-a9baf8f64e35",
   "metadata": {
    "jupyter": {
     "outputs_hidden": false,
     "source_hidden": false
    },
    "microsoft": {
     "language": "python",
     "language_group": "synapse_pyspark"
    },
    "nteract": {
     "transient": {
      "deleting": false
     }
    }
   },
   "outputs": [
    {
     "data": {
      "application/vnd.livy.statement-meta+json": {
       "execution_finish_time": "2024-11-19T16:05:25.0000469Z",
       "execution_start_time": "2024-11-19T16:05:18.5678425Z",
       "livy_statement_state": "available",
       "normalized_state": "finished",
       "parent_msg_id": "0818bf62-6f05-41a1-8fd3-e80902c327fe",
       "queued_time": "2024-11-19T16:01:43.840817Z",
       "session_id": "6efdc37f-9a23-4afd-8a67-52a5726f8452",
       "session_start_time": null,
       "spark_pool": null,
       "state": "finished",
       "statement_id": 8,
       "statement_ids": [
        8
       ]
      },
      "text/plain": [
       "StatementMeta(, 6efdc37f-9a23-4afd-8a67-52a5726f8452, 8, Finished, Available, Finished)"
      ]
     },
     "metadata": {},
     "output_type": "display_data"
    }
   ],
   "source": [
    "# Load data\n",
    "productdescription = spark.read.table(\"bronze.adventureworks.productdescription\")\n",
    "\n",
    "# Drop columns that are not needed\n",
    "productdescription = productdescription.drop(\"rowguid\")\n",
    "\n",
    "# Write productdescription data\n",
    "productdescription.write.mode(\"Overwrite\").saveAsTable(\"adventureworks.clean_productdescription\")"
   ]
  },
  {
   "cell_type": "code",
   "execution_count": 7,
   "id": "e679834a-dfcf-4656-8c99-762604f31404",
   "metadata": {
    "jupyter": {
     "outputs_hidden": false,
     "source_hidden": false
    },
    "microsoft": {
     "language": "python",
     "language_group": "synapse_pyspark"
    },
    "nteract": {
     "transient": {
      "deleting": false
     }
    }
   },
   "outputs": [
    {
     "data": {
      "application/vnd.livy.statement-meta+json": {
       "execution_finish_time": "2024-11-19T16:05:28.9056263Z",
       "execution_start_time": "2024-11-19T16:05:25.3610297Z",
       "livy_statement_state": "available",
       "normalized_state": "finished",
       "parent_msg_id": "60782198-a1bd-44e0-9e77-ebb2e2393289",
       "queued_time": "2024-11-19T16:01:43.8416796Z",
       "session_id": "6efdc37f-9a23-4afd-8a67-52a5726f8452",
       "session_start_time": null,
       "spark_pool": null,
       "state": "finished",
       "statement_id": 9,
       "statement_ids": [
        9
       ]
      },
      "text/plain": [
       "StatementMeta(, 6efdc37f-9a23-4afd-8a67-52a5726f8452, 9, Finished, Available, Finished)"
      ]
     },
     "metadata": {},
     "output_type": "display_data"
    }
   ],
   "source": [
    "# Load data\n",
    "productmodel = spark.read.table(\"bronze.adventureworks.productmodel\")\n",
    "\n",
    "# Drop columns that are not needed\n",
    "productmodel = productmodel.drop(\"rowguid\")\n",
    "\n",
    "# Write productmodel data\n",
    "productmodel.write.mode(\"Overwrite\").saveAsTable(\"adventureworks.clean_productmodel\")"
   ]
  },
  {
   "cell_type": "code",
   "execution_count": 8,
   "id": "1df3e12d-06d8-4f71-903e-9f4c4d9152b7",
   "metadata": {
    "jupyter": {
     "outputs_hidden": false,
     "source_hidden": false
    },
    "microsoft": {
     "language": "python",
     "language_group": "synapse_pyspark"
    },
    "nteract": {
     "transient": {
      "deleting": false
     }
    }
   },
   "outputs": [
    {
     "data": {
      "application/vnd.livy.statement-meta+json": {
       "execution_finish_time": "2024-11-19T16:05:32.9595367Z",
       "execution_start_time": "2024-11-19T16:05:29.3615185Z",
       "livy_statement_state": "available",
       "normalized_state": "finished",
       "parent_msg_id": "83b88b4e-62c4-4916-a6e7-1f391330d596",
       "queued_time": "2024-11-19T16:01:43.8425658Z",
       "session_id": "6efdc37f-9a23-4afd-8a67-52a5726f8452",
       "session_start_time": null,
       "spark_pool": null,
       "state": "finished",
       "statement_id": 10,
       "statement_ids": [
        10
       ]
      },
      "text/plain": [
       "StatementMeta(, 6efdc37f-9a23-4afd-8a67-52a5726f8452, 10, Finished, Available, Finished)"
      ]
     },
     "metadata": {},
     "output_type": "display_data"
    }
   ],
   "source": [
    "# Load data\n",
    "productmodelproductdescription = spark.read.table(\"bronze.adventureworks.productmodelproductdescription\")\n",
    "\n",
    "# Drop columns that are not needed\n",
    "productmodelproductdescription = productmodelproductdescription.drop(\"rowguid\")\n",
    "\n",
    "# Write productmodelproductdescription data\n",
    "productmodelproductdescription.write.mode(\"Overwrite\").saveAsTable(\"adventureworks.clean_productmodelproductdescription\")"
   ]
  },
  {
   "cell_type": "code",
   "execution_count": 9,
   "id": "719b52c1-5ab3-4e5c-9380-ef04aaf54204",
   "metadata": {
    "jupyter": {
     "outputs_hidden": false,
     "source_hidden": false
    },
    "microsoft": {
     "language": "python",
     "language_group": "synapse_pyspark"
    },
    "nteract": {
     "transient": {
      "deleting": false
     }
    }
   },
   "outputs": [
    {
     "data": {
      "application/vnd.livy.statement-meta+json": {
       "execution_finish_time": "2024-11-19T16:05:36.8822464Z",
       "execution_start_time": "2024-11-19T16:05:33.3142885Z",
       "livy_statement_state": "available",
       "normalized_state": "finished",
       "parent_msg_id": "1eb141ba-2557-48e9-9d9c-80deac3dd977",
       "queued_time": "2024-11-19T16:01:43.8434733Z",
       "session_id": "6efdc37f-9a23-4afd-8a67-52a5726f8452",
       "session_start_time": null,
       "spark_pool": null,
       "state": "finished",
       "statement_id": 11,
       "statement_ids": [
        11
       ]
      },
      "text/plain": [
       "StatementMeta(, 6efdc37f-9a23-4afd-8a67-52a5726f8452, 11, Finished, Available, Finished)"
      ]
     },
     "metadata": {},
     "output_type": "display_data"
    }
   ],
   "source": [
    "# Load data\n",
    "salesorderdetail = spark.read.table(\"bronze.adventureworks.salesorderdetail\")\n",
    "\n",
    "# Drop columns that are not needed\n",
    "salesorderdetail = salesorderdetail.drop(\"rowguid\")\n",
    "\n",
    "# Write salesorderdetail data\n",
    "salesorderdetail.write.mode(\"Overwrite\").saveAsTable(\"adventureworks.clean_salesorderdetail\")"
   ]
  },
  {
   "cell_type": "code",
   "execution_count": 10,
   "id": "17cb695c-f6c6-4c5f-a1a9-dd4d37b065ed",
   "metadata": {
    "jupyter": {
     "outputs_hidden": false,
     "source_hidden": false
    },
    "microsoft": {
     "language": "python",
     "language_group": "synapse_pyspark"
    },
    "nteract": {
     "transient": {
      "deleting": false
     }
    }
   },
   "outputs": [
    {
     "data": {
      "application/vnd.livy.statement-meta+json": {
       "execution_finish_time": "2024-11-19T16:05:42.1160352Z",
       "execution_start_time": "2024-11-19T16:05:37.2434086Z",
       "livy_statement_state": "available",
       "normalized_state": "finished",
       "parent_msg_id": "ed2eb68f-7361-4370-9eb7-403a9009f2dc",
       "queued_time": "2024-11-19T16:01:43.8443024Z",
       "session_id": "6efdc37f-9a23-4afd-8a67-52a5726f8452",
       "session_start_time": null,
       "spark_pool": null,
       "state": "finished",
       "statement_id": 12,
       "statement_ids": [
        12
       ]
      },
      "text/plain": [
       "StatementMeta(, 6efdc37f-9a23-4afd-8a67-52a5726f8452, 12, Finished, Available, Finished)"
      ]
     },
     "metadata": {},
     "output_type": "display_data"
    }
   ],
   "source": [
    "# Load data\n",
    "salesorderheader = spark.read.table(\"bronze.adventureworks.salesorderheader\")\n",
    "\n",
    "# Drop columns that are not needed\n",
    "salesorderheader = salesorderheader.drop(\"rowguid\")\n",
    "\n",
    "# Write salesorderheader data\n",
    "salesorderheader.write.mode(\"Overwrite\").saveAsTable(\"adventureworks.clean_salesorderheader\")"
   ]
  }
 ],
 "metadata": {
  "dependencies": {
   "lakehouse": {
    "default_lakehouse": "5e948e85-b798-4967-bdad-a26c0a44d0cd",
    "default_lakehouse_name": "Silver",
    "default_lakehouse_workspace_id": "30950d63-22f3-4d65-8813-310477df47b4",
    "known_lakehouses": [
     {
      "id": "5e948e85-b798-4967-bdad-a26c0a44d0cd"
     }
    ]
   }
  },
  "kernel_info": {
   "name": "synapse_pyspark"
  },
  "kernelspec": {
   "display_name": "Synapse PySpark",
   "language": "Python",
   "name": "synapse_pyspark"
  },
  "language_info": {
   "name": "python"
  },
  "microsoft": {
   "language": "python",
   "language_group": "synapse_pyspark",
   "ms_spell_check": {
    "ms_spell_check_language": "en"
   }
  },
  "notebook_environment": {},
  "nteract": {
   "version": "nteract-front-end@1.0.0"
  },
  "save_output": true,
  "spark_compute": {
   "compute_id": "/trident/default",
   "session_options": {
    "conf": {
     "spark.synapse.nbs.session.timeout": "1200000"
    },
    "enableDebugMode": false
   }
  },
  "synapse_widget": {
   "state": {},
   "version": "0.1"
  },
  "widgets": {}
 },
 "nbformat": 4,
 "nbformat_minor": 5
}
