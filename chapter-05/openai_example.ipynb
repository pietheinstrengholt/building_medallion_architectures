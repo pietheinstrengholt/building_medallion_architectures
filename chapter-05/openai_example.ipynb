{
 "cells": [
  {
   "cell_type": "code",
   "execution_count": null,
   "metadata": {},
   "outputs": [],
   "source": [
    "# Configure Azure OpenAI\n",
    "AZURE_OPENAI_API_KEY=\"<your API Key>\"\n",
    "AZURE_OPENAI_ENDPOINT=\"<your_OpenAI_Endpoint>\"\n",
    "\n",
    "# Load openai library\n",
    "import os\n",
    "from openai import AzureOpenAI\n",
    "\n",
    "# Initialize Azure OpenAI client\n",
    "client = AzureOpenAI(\n",
    "  api_key = os.getenv(AZURE_OPENAI_API_KEY),  \n",
    "  api_version = \"<your_version>\",\n",
    "  azure_endpoint = os.getenv(AZURE_OPENAI_ENDPOINT)\n",
    ")\n",
    "\n",
    "# Load data\n",
    "df = spark.read.table(\"adventureworks.customer\")\n",
    "\n",
    "# Extract CompanyName from DataFrame\n",
    "prompts = df.select('CompanyName').map(f=>f.getString(0)) \\\n",
    ".collect.toList.distinct\n",
    "\n",
    "# Iterate over prompts\n",
    "for prompt in prompts:\n",
    "    response = client.chat.completions.create(\n",
    "        model=\"<your_model_name>\",\n",
    "        messages=[\n",
    "            {\"role\": \"user\", \"content\": \\\n",
    "            \"Classify this company by returning the NAICS: \" \\\n",
    "            + prompt}\n",
    "        ],\n",
    "        max_tokens=100\n",
    "    )\n",
    "    \n",
    "    # Print response for each prompt\n",
    "    print(f\"Prompt: {prompt}\")\n",
    "    print(\"Response:\", response.choices[0].message.content)\n",
    "    print()"
   ]
  }
 ],
 "metadata": {
  "language_info": {
   "name": "python"
  }
 },
 "nbformat": 4,
 "nbformat_minor": 2
}
