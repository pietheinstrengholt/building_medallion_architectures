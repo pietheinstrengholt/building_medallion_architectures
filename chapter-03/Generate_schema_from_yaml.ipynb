{
 "cells": [
  {
   "cell_type": "code",
   "execution_count": 0,
   "metadata": {
    "application/vnd.databricks.v1+cell": {
     "cellMetadata": {},
     "inputWidgets": {},
     "nuid": "b794ae21-23c5-4846-8dab-8b9066694816",
     "showTitle": false,
     "tableResultSettingsMap": {},
     "title": ""
    }
   },
   "outputs": [],
   "source": [
    "import yaml\n",
    "from pyspark.sql.types import *\n",
    "\n",
    "# Function to Load YAML File\n",
    "def load_yaml_file(yaml_file_path):\n",
    "    with open(yaml_file_path, 'r') as file:\n",
    "        schema_yaml = yaml.safe_load(file)\n",
    "    return schema_yaml\n",
    "\n",
    "# Function to Generate PySpark Schema from YAML Data\n",
    "def generate_schema_from_yaml(yaml_data):\n",
    "    columns = yaml_data['columns']\n",
    "    schema = StructType()\n",
    "    \n",
    "    for column in columns:\n",
    "        if column['type'] == 'integer':\n",
    "            schema.add(StructField(column['name'], IntegerType(), True))\n",
    "        elif column['type'] == 'string':\n",
    "            schema.add(StructField(column['name'], StringType(), True))\n",
    "        elif column['type'] == 'boolean':\n",
    "            schema.add(StructField(column['name'], BooleanType(), True))\n",
    "        elif column['type'] == 'datetime':\n",
    "            schema.add(StructField(column['name'], Datetime(), True))\n",
    "    \n",
    "    return schema\n",
    "\n",
    "# Load YAML File\n",
    "schema_yaml = load_yaml_file('/dbfs/mnt/delta/schema.yaml')\n",
    "yaml_data = load_yaml_file(schema_yaml)\n",
    "schema = generate_schema_from_yaml(yaml_data)\n",
    "\n",
    "# Define DataFrame with Schema\n",
    "df = spark.createDataFrame(data, schema=schema)"
   ]
  }
 ],
 "metadata": {
  "application/vnd.databricks.v1+notebook": {
   "dashboards": [],
   "environmentMetadata": null,
   "language": "python",
   "notebookMetadata": {
    "pythonIndentUnit": 4
   },
   "notebookName": "Generate_schema_from_yaml",
   "widgets": {}
  },
  "language_info": {
   "name": "python"
  }
 },
 "nbformat": 4,
 "nbformat_minor": 0
}