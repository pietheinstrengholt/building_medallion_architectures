{
 "cells": [
  {
   "cell_type": "code",
   "execution_count": 0,
   "metadata": {
    "application/vnd.databricks.v1+cell": {
     "cellMetadata": {},
     "inputWidgets": {},
     "nuid": "909794b2-b581-4975-8bab-25b7241b6422",
     "showTitle": false,
     "tableResultSettingsMap": {},
     "title": ""
    }
   },
   "outputs": [],
   "source": [
    "# Library that allows to stream content from Azure Event Hubs\n",
    "%pip install azure-eventhub\n",
    "\n",
    "ehConf = {}\n",
    "\n",
    "# Event Hubs connection configuration\n",
    "connectionString = \"Endpoint=sb://{NAMESPACE}.servicebus.windows.net/ \\\n",
    "{EVENT_HUB_NAME};EntityPath={EVENT_HUB_NAME}; \\\n",
    "SharedAccessKeyName={ACCESS_KEY_NAME}; \\\n",
    "SharedAccessKey={ACCESS_KEY}\"\n",
    "\n",
    "# For 2.3.15 version and above, the configuration dictionary \n",
    "# requires that connection string be encrypted.\n",
    "ehConf['eventhubs.connectionString'] = sc._jvm.org.apache.spark.eventhubs \\\n",
    ".EventHubsUtils.encrypt(connectionString)\n",
    "\n",
    "# Streaming data from Azure Event Hubs\n",
    "df = spark \\\n",
    "  .readStream \\\n",
    "  .format(\"eventhubs\") \\\n",
    "  .options(**ehConf) \\\n",
    "  .load()"
   ]
  }
 ],
 "metadata": {
  "application/vnd.databricks.v1+notebook": {
   "dashboards": [],
   "environmentMetadata": null,
   "language": "python",
   "notebookMetadata": {
    "pythonIndentUnit": 4
   },
   "notebookName": "EventHubs",
   "widgets": {}
  },
  "language_info": {
   "name": "python"
  }
 },
 "nbformat": 4,
 "nbformat_minor": 0
}