{
 "cells": [
  {
   "cell_type": "code",
   "execution_count": null,
   "metadata": {},
   "outputs": [],
   "source": [
    "from delta.tables import *\n",
    "from pyspark.sql.functions import current_date\n",
    "\n",
    "# Delete any existing data\n",
    "if (DeltaTable.isDeltaTable(spark, f\"{schemaName}.{tableName}\")):\n",
    "    spark.sql(f\"DELETE FROM {schemaName}.{tableName} \\\n",
    "    WHERE loading_date = current_date()\")\n",
    "\n",
    "# Read data\n",
    "df = spark.read.parquet(f\"Files/{schemaName}/{filePath}/{tableName}.parquet\")\n",
    "\n",
    "# Add a loading date column to the DataFrame\n",
    "df = df.withColumn(\"loading_date\", current_date())\n",
    "\n",
    "# Write the data to the Delta table with schema merge\n",
    "df.write.format(\"delta\") \\\n",
    "    .mode(\"append\") \\\n",
    "    .partitionBy(\"loading_date\") \\\n",
    "    .option(\"mergeSchema\", \"true\") \\\n",
    "    .saveAsTable(f\"{schemaName}.{tableName}\")"
   ]
  }
 ],
 "metadata": {
  "language_info": {
   "name": "python"
  }
 },
 "nbformat": 4,
 "nbformat_minor": 2
}
