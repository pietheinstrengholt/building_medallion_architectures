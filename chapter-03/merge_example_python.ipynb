{
 "cells": [
  {
   "cell_type": "code",
   "execution_count": null,
   "metadata": {},
   "outputs": [],
   "source": [
    "from delta.tables import *  \n",
    "  \n",
    "dTable = DeltaTable.forPath(spark, \\\n",
    "f\"abfss://{workspaceId}@onelake.dfs.fabric.microsoft.com/ \\\n",
    "{lakehouseId}/Tables/{schemaName}/{tableName}\")\n",
    "  \n",
    "(dTable.alias(\"original\")  \n",
    " .merge(df.alias(\"updates\"), f\"original.{primaryKey} = updates.{primaryKey}\")  \n",
    " .whenMatchedUpdateAll()  \n",
    " .whenNotMatchedInsertAll()  \n",
    " .execute()  \n",
    ")"
   ]
  }
 ],
 "metadata": {
  "language_info": {
   "name": "python"
  }
 },
 "nbformat": 4,
 "nbformat_minor": 2
}
