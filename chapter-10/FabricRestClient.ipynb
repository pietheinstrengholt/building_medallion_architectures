{
 "cells": [
  {
   "cell_type": "code",
   "execution_count": null,
   "metadata": {},
   "outputs": [],
   "source": [
    "import sempy.fabric as fabric\n",
    "import pandas as pd\n",
    "\n",
    "fabricClient = fabric.FabricRestClient()\n",
    "\n",
    "urlWorkspace = \"v1/workspaces\"\n",
    "workspaceId = \"1dcb9024-eac4-463f-8baf-77ca4719b42c\"\n",
    "finalReqUrl = urlWorkspace + \"/\"+ workspaceId + \"/items\"\n",
    "result = fabricClient.get(finalReqUrl)\n",
    "\n",
    "df_items = pd.json_normalize(result.json()['value'])\n",
    "\n",
    "display(df_items)"
   ]
  }
 ],
 "metadata": {
  "language_info": {
   "name": "python"
  }
 },
 "nbformat": 4,
 "nbformat_minor": 2
}
