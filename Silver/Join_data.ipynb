{
 "cells": [
  {
   "cell_type": "code",
   "execution_count": 0,
   "metadata": {
    "application/vnd.databricks.v1+cell": {
     "cellMetadata": {},
     "inputWidgets": {},
     "nuid": "19c7a3b4-6a09-4033-92a4-877e46c695c9",
     "showTitle": false,
     "title": ""
    }
   },
   "outputs": [],
   "source": [
    "# Load data\n",
    "customers = spark.read.table(\"bronze_adventureworks.customer\")\n",
    "customeraddress = spark.read.table(\"bronze_adventureworks.customeraddress\")\n",
    "address = spark.read.table(\"bronze_adventureworks.address\")\n",
    "\n",
    "# Joining the data\n",
    "join1 = customers.join(customeraddress, on=\"CustomerID\", how=\"inner\")\n",
    "join2 = join1.join(address, on=\"AddressID\", how=\"inner\")\n",
    "display(join2)"
   ]
  }
 ],
 "metadata": {
  "application/vnd.databricks.v1+notebook": {
   "dashboards": [],
   "environmentMetadata": null,
   "language": "python",
   "notebookMetadata": {
    "pythonIndentUnit": 4
   },
   "notebookName": "Join_data",
   "widgets": {}
  }
 },
 "nbformat": 4,
 "nbformat_minor": 0
}
