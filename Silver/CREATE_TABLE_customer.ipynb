{
 "cells": [
  {
   "cell_type": "code",
   "execution_count": 0,
   "metadata": {
    "application/vnd.databricks.v1+cell": {
     "cellMetadata": {},
     "inputWidgets": {},
     "nuid": "17415e6a-4ac5-4141-a386-f395256733a1",
     "showTitle": false,
     "title": ""
    }
   },
   "outputs": [],
   "source": [
    "%sql\n",
    "CREATE TABLE IF NOT EXISTS customer\n",
    "(\n",
    "   CustomerId   INT,\n",
    "   Title        STRING,\n",
    "   FirstName    STRING,\n",
    "   MiddleName   STRING,\n",
    "   LastName     STRING,\n",
    "   Suffix       STRING,\n",
    "   CompanyName  STRING,\n",
    "   SalesPerson  STRING,\n",
    "   EmailAddress STRING,\n",
    "   Phone        STRING,\n",
    "   ModifiedDate TIMESTAMP,\n",
    "   StartDate    TIMESTAMP,\n",
    "   EndDate      TIMESTAMP,\n",
    "   IsCurrent    BOOLEAN\n",
    ")\n",
    "USING delta\n",
    "LOCATION '/Volumes/mycatalog/volumes/mnt_silver/customer'\n",
    "PARTITIONED BY(CompanyName);"
   ]
  }
 ],
 "metadata": {
  "application/vnd.databricks.v1+notebook": {
   "dashboards": [],
   "environmentMetadata": null,
   "language": "python",
   "notebookMetadata": {
    "pythonIndentUnit": 4
   },
   "notebookName": "CREATE_TABLE_customer",
   "widgets": {}
  }
 },
 "nbformat": 4,
 "nbformat_minor": 0
}
