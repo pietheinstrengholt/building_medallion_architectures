{
 "cells": [
  {
   "cell_type": "code",
   "execution_count": 0,
   "metadata": {
    "application/vnd.databricks.v1+cell": {
     "cellMetadata": {},
     "inputWidgets": {},
     "nuid": "de9bbec2-d88c-4ecb-9e8d-76cf1e66f154",
     "showTitle": false,
     "title": ""
    }
   },
   "outputs": [],
   "source": [
    "# Configure Azure OpenAI\n",
    "AZURE_OPENAI_API_KEY=\"<your API Key>\"\n",
    "AZURE_OPENAI_ENDPOINT=\"<your_OpenAI_Endpoint>\"\n",
    "\n",
    "# Load openai library\n",
    "import os\n",
    "from openai import AzureOpenAI\n",
    "\n",
    "# Initialize Azure OpenAI client\n",
    "client = AzureOpenAI(\n",
    "  api_key = os.getenv(\"<your_Azure_open_API_Key>\"),  \n",
    "  api_version = \"<your_version>\",\n",
    "  azure_endpoint = os.getenv(\"<your_Azure_open_API_Endpoint>\")\n",
    ")\n",
    "\n",
    "# Load data\n",
    "df = spark.read.table(\"silver_adventureworks.customer\")\n",
    "pandas_df = df.toPandas()\n",
    "\n",
    "# Extract prompts from DataFrame\n",
    "prompts = pandas_df['CompanyName'].tolist()\n",
    "\n",
    "# Iterate over prompts\n",
    "for prompt in prompts:\n",
    "    response = client.chat.completions.create(\n",
    "        model=\"<your_model_name>\",\n",
    "        messages=[\n",
    "            {\"role\": \"user\", \"content\": \\\n",
    "            \"Classify this company by returning the NAICS: \" \\\n",
    "            + prompt}\n",
    "        ],\n",
    "        max_tokens=100\n",
    "    )\n",
    "    \n",
    "    # Print response for each prompt\n",
    "    print(f\"Prompt: {prompt}\")\n",
    "    print(\"Response:\", response.choices[0].message.content)\n",
    "    print()"
   ]
  }
 ],
 "metadata": {
  "application/vnd.databricks.v1+notebook": {
   "dashboards": [],
   "environmentMetadata": null,
   "language": "python",
   "notebookMetadata": {
    "pythonIndentUnit": 4
   },
   "notebookName": "AZURE_OPENAI",
   "widgets": {}
  }
 },
 "nbformat": 4,
 "nbformat_minor": 0
}
