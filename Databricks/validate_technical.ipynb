{
 "cells": [
  {
   "cell_type": "code",
   "execution_count": 0,
   "metadata": {
    "application/vnd.databricks.v1+cell": {
     "cellMetadata": {},
     "inputWidgets": {},
     "nuid": "a8a8e444-9631-4831-9ba6-55d4adae6ebe",
     "showTitle": false,
     "tableResultSettingsMap": {},
     "title": ""
    }
   },
   "outputs": [],
   "source": [
    "# Import the necessary libraries\n",
    "import json\n",
    "\n",
    "# Define the input widgets\n",
    "schema_name = dbutils.widgets.get(\"schemaName\")\n",
    "table_name = dbutils.widgets.get(\"tableName\")\n",
    "metadata = dbutils.widgets.get(\"metadata\")\n",
    "\n",
    "try:\n",
    "    json.loads(metadata)\n",
    "except ValueError as e:\n",
    "    mssparkutils.notebook.exit(\"Metadata parameter is not a valid JSON object.\")\n",
    "\n",
    "json_metadata = json.loads(metadata)"
   ]
  },
  {
   "cell_type": "code",
   "execution_count": 0,
   "metadata": {
    "application/vnd.databricks.v1+cell": {
     "cellMetadata": {},
     "inputWidgets": {},
     "nuid": "eba4042d-c2e3-4a64-9cc9-cf0aea00e4f6",
     "showTitle": false,
     "tableResultSettingsMap": {},
     "title": ""
    }
   },
   "outputs": [],
   "source": [
    "# Load data and convert data frame to great expectations data frame\n",
    "df = spark.read.table(\"bronze_\" + schema_name + \".\" + table_name)\n",
    "\n",
    "# Check if columns in metadata exist in the dataframe\n",
    "missing_columns = [item[\"ColumnName\"] for item in json_metadata if item[\"ColumnName\"] not in df.columns]\n",
    "\n",
    "if missing_columns:\n",
    "    dbutils.notebook.exit(f\"Data quality validations have failed. Missing columns: {', '.join(missing_columns)}\")"
   ]
  }
 ],
 "metadata": {
  "application/vnd.databricks.v1+notebook": {
   "dashboards": [],
   "environmentMetadata": {
    "base_environment": "",
    "client": "1"
   },
   "language": "python",
   "notebookMetadata": {
    "pythonIndentUnit": 4
   },
   "notebookName": "ValidateTechnicalDQ",
   "widgets": {}
  },
  "language_info": {
   "name": "python"
  }
 },
 "nbformat": 4,
 "nbformat_minor": 0
}