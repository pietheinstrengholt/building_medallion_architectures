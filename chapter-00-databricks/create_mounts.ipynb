{
 "cells": [
  {
   "cell_type": "code",
   "execution_count": 0,
   "metadata": {
    "application/vnd.databricks.v1+cell": {
     "cellMetadata": {
      "byteLimit": 2048000,
      "rowLimit": 10000
     },
     "inputWidgets": {},
     "nuid": "b2daeda8-72c7-4a48-ac10-79b05a03fc04",
     "showTitle": false,
     "tableResultSettingsMap": {},
     "title": ""
    }
   },
   "outputs": [],
   "source": [
    "#mount landing\n",
    "dbutils.fs.mount(\n",
    " source='wasbs://landing@storagebuildingma.blob.core.windows.net/',\n",
    " mount_point = '/mnt/landing',\n",
    " extra_configs = {'fs.azure.account.key.storagebuildingma.blob.core.windows.net': dbutils.secrets.get('stCredentials','blobAccountKey')}\n",
    ")\n",
    "\n",
    "dbutils.fs.ls(\"/mnt/landing\")"
   ]
  },
  {
   "cell_type": "code",
   "execution_count": 0,
   "metadata": {
    "application/vnd.databricks.v1+cell": {
     "cellMetadata": {
      "byteLimit": 2048000,
      "rowLimit": 10000
     },
     "inputWidgets": {},
     "nuid": "c68d956a-dca0-4691-b69d-2d30181501d0",
     "showTitle": false,
     "tableResultSettingsMap": {},
     "title": ""
    }
   },
   "outputs": [],
   "source": [
    "#mount bronze\n",
    "dbutils.fs.mount(\n",
    " source='wasbs://bronze@storagebuildingma.blob.core.windows.net/',\n",
    " mount_point = '/mnt/bronze',\n",
    " extra_configs = {'fs.azure.account.key.storagebuildingma.blob.core.windows.net': dbutils.secrets.get('stCredentials','blobAccountKey')}\n",
    ")\n",
    "\n",
    "dbutils.fs.ls(\"/mnt/bronze\")"
   ]
  },
  {
   "cell_type": "code",
   "execution_count": 0,
   "metadata": {
    "application/vnd.databricks.v1+cell": {
     "cellMetadata": {
      "byteLimit": 2048000,
      "rowLimit": 10000
     },
     "inputWidgets": {},
     "nuid": "31ca4fb2-c454-47b6-8ddd-2639dac3baa2",
     "showTitle": false,
     "tableResultSettingsMap": {},
     "title": ""
    }
   },
   "outputs": [],
   "source": [
    "#mount silver\n",
    "dbutils.fs.mount(\n",
    " source='wasbs://silver@storagebuildingma.blob.core.windows.net/',\n",
    " mount_point = '/mnt/silver',\n",
    " extra_configs = {'fs.azure.account.key.storagebuildingma.blob.core.windows.net': dbutils.secrets.get('stCredentials','blobAccountKey')}\n",
    ")\n",
    "\n",
    "dbutils.fs.ls(\"/mnt/silver\")"
   ]
  },
  {
   "cell_type": "code",
   "execution_count": 0,
   "metadata": {
    "application/vnd.databricks.v1+cell": {
     "cellMetadata": {
      "byteLimit": 2048000,
      "rowLimit": 10000
     },
     "inputWidgets": {},
     "nuid": "444891b8-7cd0-4c94-9a6c-f4a443bc7758",
     "showTitle": false,
     "tableResultSettingsMap": {},
     "title": ""
    }
   },
   "outputs": [],
   "source": [
    "#mount gold\n",
    "dbutils.fs.mount(\n",
    " source='wasbs://gold@storagebuildingma.blob.core.windows.net/',\n",
    " mount_point = '/mnt/gold',\n",
    " extra_configs = {'fs.azure.account.key.storagebuildingma.blob.core.windows.net': dbutils.secrets.get('stCredentials','blobAccountKey')}\n",
    ")\n",
    "\n",
    "dbutils.fs.ls(\"/mnt/gold\")"
   ]
  }
 ],
 "metadata": {
  "application/vnd.databricks.v1+notebook": {
   "dashboards": [],
   "environmentMetadata": {
    "base_environment": "",
    "client": "1"
   },
   "language": "python",
   "notebookMetadata": {
    "pythonIndentUnit": 4
   },
   "notebookName": "CreateMounts",
   "widgets": {}
  },
  "language_info": {
   "name": "python"
  }
 },
 "nbformat": 4,
 "nbformat_minor": 0
}