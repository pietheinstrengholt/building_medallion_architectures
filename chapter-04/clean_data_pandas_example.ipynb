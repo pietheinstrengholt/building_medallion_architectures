{
 "cells": [
  {
   "cell_type": "code",
   "execution_count": null,
   "metadata": {},
   "outputs": [],
   "source": [
    "# Same code as above but using Pandas\n",
    "import pandas as pd\n",
    "customers = spark.read.table(\"bronze.adventureworks.customer\")\n",
    "customers = customers.toPandas().drop(columns=[\"PasswordHash\", \\\n",
    "\"PasswordSalt\", \"rowguid\"])\n",
    "customers['ModifiedDate'] = pd. \\\n",
    "to_datetime(customers['ModifiedDate']).dt.strftime('%Y-%m-%d')\n",
    "customers['Gender'] = customers['Title'].apply \\\n",
    "(lambda x: \"Male\" if x == \"Mr.\" else \"Female\" if x == \"Ms.\" else \"Unknown\")\n",
    "customers['SalesPerson'] = customers['SalesPerson']. \\\n",
    "str.replace('adventure-works\\\\', '', regex=False)\n",
    "customers['Phone'] = customers['Phone']. \\\n",
    "str.replace(r'.*?(\\d{3} \\d{3}-\\d{4})', r'\\1', regex=True)\n",
    "\n",
    "# Check for shared phone numbers\n",
    "customers['SharedPhone'] = customers.duplicated(subset=['Phone'])\n",
    "\n",
    "# Write the cleaned data to a Delta table\n",
    "customers.write.format(\"delta\").mode(\"overwrite\") \\\n",
    ".saveAsTable(schemaName + \".clean_customer\")\n",
    "\n",
    "display(customers)"
   ]
  }
 ],
 "metadata": {
  "language_info": {
   "name": "python"
  }
 },
 "nbformat": 4,
 "nbformat_minor": 2
}
