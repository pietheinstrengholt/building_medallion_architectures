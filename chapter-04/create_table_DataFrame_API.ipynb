{
 "cells": [
  {
   "cell_type": "code",
   "execution_count": null,
   "metadata": {},
   "outputs": [],
   "source": [
    "from pyspark.sql.types import *\n",
    "\n",
    "# Define the schema\n",
    "schema = StructType([\n",
    "    StructField(\"CustomerID\", IntegerType(), True),\n",
    "    StructField(\"NameStyle\", BooleanType(), True),\n",
    "    StructField(\"Title\", StringType(), True),\n",
    "    StructField(\"FirstName\", StringType(), True)\n",
    "])\n",
    "\n",
    "# Read the raw JSON data and apply the schema\n",
    "df = spark.read.schema(schema).json(\"/path/to/raw/data\")\n",
    "\n",
    "# Write the DataFrame to a Delta table\n",
    "df.write.format(\"delta\").saveAsTable(\"adventureworks.customer\")"
   ]
  }
 ],
 "metadata": {
  "language_info": {
   "name": "python"
  }
 },
 "nbformat": 4,
 "nbformat_minor": 2
}
