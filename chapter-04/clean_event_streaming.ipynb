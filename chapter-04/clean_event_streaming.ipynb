{
 "cells": [
  {
   "cell_type": "code",
   "execution_count": null,
   "metadata": {},
   "outputs": [],
   "source": [
    "# Streaming data from Azure Event Hubs\n",
    "df = spark \\\n",
    "  .readStream \\\n",
    "  .format(\"eventhubs\") \\\n",
    "  .options(**ehConf) \\\n",
    "  .load()\n",
    "\n",
    "# Drop rows containing any null or NaN values\n",
    "output = df.na.drop()\n",
    "\n",
    "# Write the cleaned data to a Delta table\n",
    "output.writeStream \\\n",
    "  .format(\"delta\") \\\n",
    "  .outputMode(\"append\") \\\n",
    "  .toTable(\"adventureworks.events\")"
   ]
  }
 ],
 "metadata": {
  "language_info": {
   "name": "python"
  }
 },
 "nbformat": 4,
 "nbformat_minor": 2
}
